{
 "cells": [
  {
   "cell_type": "code",
   "execution_count": 1,
   "metadata": {
    "collapsed": true
   },
   "outputs": [],
   "source": [
    "\"\"\"\n",
    "from https://gist.github.com/bradmontgomery/8465161\n",
    "An IPython magic function to pretty-print objects with syntax highlighting.\n",
    "See, \"Defining your own magics\":\n",
    "http://ipython.org/ipython-doc/stable/interactive/reference.html#defining-your-own-magics\n",
    "For more on Pygments:\n",
    "http://pygments.org/docs/quickstart/\n",
    "Usage\n",
    "-----\n",
    "Place this file in your IPython startup directory. The default location is::\n",
    "    ~/.ipython/profile_default/startup/\n",
    "NOTE for Django: Since django uses an embedded IPython shell, it may not\n",
    "load your default IPython profile. You'll need to run:\n",
    "    %run /path/to/this/file\n",
    "License\n",
    "-------\n",
    "Copyright (c) 2014, Brad Montgomery <brad@bradmontgomery.net>\n",
    "Released under the MIT License.\n",
    "http://opensource.org/licenses/MIT\n",
    "\"\"\"\n",
    "from __future__ import print_function\n",
    "\n",
    "from IPython.core.magic import Magics, magics_class, line_magic\n",
    "from pprint import pformat\n",
    "from pygments import highlight\n",
    "from pygments.formatters import Terminal256Formatter  # Or TerminalFormatter\n",
    "from pygments.lexers import PythonLexer\n",
    "\n",
    "\n",
    "@magics_class\n",
    "class PrettyColorfulInspector(Magics):\n",
    "    \"\"\"Implementation for a magic function that inpects a given python object,\n",
    "    and then prints a syntax-highlighted and pretty-printed version of it.\"\"\"\n",
    "\n",
    "    @line_magic\n",
    "    def inspect(self, line):\n",
    "        if line:\n",
    "            # evaluate the line to get a python object\n",
    "            python_object = self.shell.ev(line)\n",
    "\n",
    "            # Pretty Print/Format the object\n",
    "            formatted_object = pformat(python_object)\n",
    "\n",
    "            # Use Pygments to do syntax highlighting\n",
    "            lexer = PythonLexer()\n",
    "            formatter = Terminal256Formatter()\n",
    "            output = highlight(formatted_object, lexer, formatter)\n",
    "\n",
    "            # Print the output, but don't return anything (othewise, we'd\n",
    "            # potentially get a wall of color-coded text.\n",
    "            print(output)\n",
    "\n",
    "\n",
    "# Register with IPython\n",
    "ip = get_ipython()\n",
    "ip.register_magics(PrettyColorfulInspector)"
   ]
  }
 ],
 "metadata": {
  "kernelspec": {
   "display_name": "Python 2",
   "language": "python",
   "name": "python2"
  },
  "language_info": {
   "codemirror_mode": {
    "name": "ipython",
    "version": 2
   },
   "file_extension": ".py",
   "mimetype": "text/x-python",
   "name": "python",
   "nbconvert_exporter": "python",
   "pygments_lexer": "ipython2",
   "version": "2.7.12"
  }
 },
 "nbformat": 4,
 "nbformat_minor": 0
}
